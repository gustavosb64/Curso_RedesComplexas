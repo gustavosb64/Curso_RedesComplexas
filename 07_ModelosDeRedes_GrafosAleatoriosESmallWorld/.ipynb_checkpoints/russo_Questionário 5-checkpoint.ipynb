{
 "cells": [
  {
   "cell_type": "markdown",
   "id": "3f7c9512",
   "metadata": {},
   "source": [
    "## Exercício 1"
   ]
  },
  {
   "cell_type": "code",
   "execution_count": 56,
   "id": "3d979d08",
   "metadata": {},
   "outputs": [],
   "source": [
    "from numpy  import *\n",
    "import numpy as np\n",
    "import networkx as nx"
   ]
  },
  {
   "cell_type": "code",
   "execution_count": 57,
   "id": "0aa7e890",
   "metadata": {},
   "outputs": [],
   "source": [
    "N = 1000\n",
    "p = 0.1\n",
    "GER = nx.gnp_random_graph(N, p, seed=None, directed=False)"
   ]
  },
  {
   "cell_type": "code",
   "execution_count": 58,
   "id": "6f6ddda0",
   "metadata": {},
   "outputs": [
    {
     "name": "stdout",
     "output_type": "stream",
     "text": [
      "Average degre: 99.764\n",
      "Second momment of P(k): 10042.408000000001\n",
      "Average clustering: 0.0998\n"
     ]
    }
   ],
   "source": [
    "def degree_distribution(GER):\n",
    "    vk = dict(GER.degree())\n",
    "    vk = list(vk.values()) # we get only the degree values\n",
    "    maxk = np.max(vk)\n",
    "    mink = np.min(min)\n",
    "    kvalues= arange(0,maxk+1) # possible values of k\n",
    "    Pk = np.zeros(maxk+1) # P(k)\n",
    "    for k in vk:\n",
    "        Pk[k] = Pk[k] + 1\n",
    "    Pk = Pk/sum(Pk) # the sum of the elements of P(k) must to be equal to one\n",
    "    return kvalues,Pk\n",
    "\n",
    "def momment_of_degree_distribution(G,m):\n",
    "    k,Pk = degree_distribution(G)\n",
    "    M = sum((k**m)*Pk)\n",
    "    return M\n",
    "\n",
    "k2 = momment_of_degree_distribution(GER,2)\n",
    "avc = nx.average_clustering(GER)\n",
    "N = len(GER)\n",
    "M = GER.number_of_edges()\n",
    "\n",
    "print('Average degre:', 2*M/N)\n",
    "print('Second momment of P(k):', k2)\n",
    "print(\"Average clustering:\", \"%3.4f\"%avc)"
   ]
  },
  {
   "cell_type": "markdown",
   "id": "78f14cba",
   "metadata": {},
   "source": [
    "## Exercício 2"
   ]
  },
  {
   "cell_type": "code",
   "execution_count": 59,
   "id": "d030392d",
   "metadata": {},
   "outputs": [],
   "source": [
    "N = 1000\n",
    "av_degree = 10\n",
    "p = .1\n",
    "GWS = nx.watts_strogatz_graph(N, av_degree, p, seed=None)"
   ]
  },
  {
   "cell_type": "code",
   "execution_count": 60,
   "id": "823ddf2f",
   "metadata": {},
   "outputs": [
    {
     "name": "stdout",
     "output_type": "stream",
     "text": [
      "Average degre: 10.0\n",
      "Second momment of P(k): 100.98600000000002\n",
      "Average clustering: 0.4927\n"
     ]
    }
   ],
   "source": [
    "def degree_distribution(GER):\n",
    "    vk = dict(GER.degree())\n",
    "    vk = list(vk.values()) # we get only the degree values\n",
    "    maxk = np.max(vk)\n",
    "    mink = np.min(min)\n",
    "    kvalues= arange(0,maxk+1) # possible values of k\n",
    "    Pk = np.zeros(maxk+1) # P(k)\n",
    "    for k in vk:\n",
    "        Pk[k] = Pk[k] + 1\n",
    "    Pk = Pk/sum(Pk) # the sum of the elements of P(k) must to be equal to one\n",
    "    return kvalues,Pk\n",
    "\n",
    "def momment_of_degree_distribution(G,m):\n",
    "    k,Pk = degree_distribution(G)\n",
    "    M = sum((k**m)*Pk)\n",
    "    return M\n",
    "k2 = momment_of_degree_distribution(GWS,2)\n",
    "avc = nx.average_clustering(GWS)\n",
    "N = len(GWS)\n",
    "M = GWS.number_of_edges()\n",
    "\n",
    "print('Average degre:', 2*M/N)\n",
    "print('Second momment of P(k):', k2)\n",
    "print(\"Average clustering:\", \"%3.4f\"%avc)"
   ]
  },
  {
   "cell_type": "markdown",
   "id": "2fbddf2d",
   "metadata": {},
   "source": [
    "## Exercício 3"
   ]
  },
  {
   "cell_type": "code",
   "execution_count": 61,
   "id": "04f8a062",
   "metadata": {},
   "outputs": [],
   "source": [
    "N = 1000"
   ]
  },
  {
   "cell_type": "code",
   "execution_count": 62,
   "id": "ebf51065",
   "metadata": {},
   "outputs": [
    {
     "name": "stdout",
     "output_type": "stream",
     "text": [
      "Shannon Entropy =  2.4579\n",
      "Shannon Entropy =  3.2056\n",
      "Shannon Entropy =  4.3666\n"
     ]
    }
   ],
   "source": [
    "def degree_distribution(GER):\n",
    "    vk = dict(GER.degree())\n",
    "    vk = list(vk.values()) # we get only the degree values\n",
    "    maxk = np.max(vk)\n",
    "    mink = np.min(min)\n",
    "    kvalues= arange(0,maxk+1) # possible values of k\n",
    "    Pk = np.zeros(maxk+1) # P(k)\n",
    "    for k in vk:\n",
    "        Pk[k] = Pk[k] + 1\n",
    "    Pk = Pk/sum(Pk) # the sum of the elements of P(k) must to be equal to one\n",
    "    return kvalues,Pk\n",
    "\n",
    "def shannon_entropy(G):\n",
    "    k,Pk = degree_distribution(G)\n",
    "    H = 0\n",
    "    for p in Pk:\n",
    "        if(p > 0):\n",
    "            H = H - p*math.log(p, 2)\n",
    "    return H\n",
    "\n",
    "for k in [5, 10, 50]:\n",
    "    GER = nx.watts_strogatz_graph(N,k,1, seed=None)\n",
    "\n",
    "    H = shannon_entropy(GER)\n",
    "    print(\"Shannon Entropy = \", \"%3.4f\"%H)"
   ]
  },
  {
   "cell_type": "code",
   "execution_count": 63,
   "id": "59ecbcd1",
   "metadata": {},
   "outputs": [
    {
     "name": "stdout",
     "output_type": "stream",
     "text": [
      "Shannon Entropy =  3.7004\n",
      "Shannon Entropy =  4.1939\n",
      "Shannon Entropy =  5.2996\n"
     ]
    }
   ],
   "source": [
    "def degree_distribution(GER):\n",
    "    vk = dict(GER.degree())\n",
    "    vk = list(vk.values()) # we get only the degree values\n",
    "    maxk = np.max(vk)\n",
    "    mink = np.min(min)\n",
    "    kvalues= arange(0,maxk+1) # possible values of k\n",
    "    Pk = np.zeros(maxk+1) # P(k)\n",
    "    for k in vk:\n",
    "        Pk[k] = Pk[k] + 1\n",
    "    Pk = Pk/sum(Pk) # the sum of the elements of P(k) must to be equal to one\n",
    "    return kvalues,Pk\n",
    "\n",
    "def shannon_entropy(G):\n",
    "    k,Pk = degree_distribution(G)\n",
    "    H = 0\n",
    "    for p in Pk:\n",
    "        if(p > 0):\n",
    "            H = H - p*math.log(p, 2)\n",
    "    return H\n",
    "\n",
    "for k in [5, 10, 50]:\n",
    "    p = 2*k/(N-1)\n",
    "    GER = nx.gnp_random_graph(N,p,seed=None, directed=False)\n",
    "\n",
    "    H = shannon_entropy(GER)\n",
    "    print(\"Shannon Entropy = \", \"%3.4f\"%H)"
   ]
  },
  {
   "cell_type": "markdown",
   "id": "3218be95",
   "metadata": {},
   "source": [
    "## Exercício 4"
   ]
  },
  {
   "cell_type": "code",
   "execution_count": 75,
   "id": "e5cdce1f",
   "metadata": {},
   "outputs": [
    {
     "name": "stdout",
     "output_type": "stream",
     "text": [
      "Average shortest path length: 12.8788\n",
      "Average shortest path length: 11.0527\n",
      "Average shortest path length: 7.3152\n",
      "Average shortest path length: 4.9422\n"
     ]
    }
   ],
   "source": [
    "N = 100\n",
    "av_degree = 8\n",
    "k = int(av_degree/2)\n",
    "\n",
    "for p in [0, 0.01, 0.05, 0.1]:\n",
    "    GWS = nx.watts_strogatz_graph(N, k, p, seed=None)\n",
    "    l = nx.average_shortest_path_length(GWS)\n",
    "    print(\"Average shortest path length:\", \"%3.4f\"%l)"
   ]
  },
  {
   "cell_type": "markdown",
   "id": "b6366983",
   "metadata": {},
   "source": [
    "# Exercício 5"
   ]
  },
  {
   "cell_type": "code",
   "execution_count": 1,
   "id": "f3648293",
   "metadata": {},
   "outputs": [
    {
     "ename": "NameError",
     "evalue": "name 'nx' is not defined",
     "output_type": "error",
     "traceback": [
      "\u001b[0;31m---------------------------------------------------------------------------\u001b[0m",
      "\u001b[0;31mNameError\u001b[0m                                 Traceback (most recent call last)",
      "Input \u001b[0;32mIn [1]\u001b[0m, in \u001b[0;36m<cell line: 2>\u001b[0;34m()\u001b[0m\n\u001b[1;32m      3\u001b[0m k \u001b[38;5;241m=\u001b[39m \u001b[38;5;28mint\u001b[39m(av_degree\u001b[38;5;241m/\u001b[39m\u001b[38;5;241m2\u001b[39m)\n\u001b[1;32m      4\u001b[0m p \u001b[38;5;241m=\u001b[39m av_degree\u001b[38;5;241m/\u001b[39m(N\u001b[38;5;241m-\u001b[39m\u001b[38;5;241m1\u001b[39m)\n\u001b[0;32m----> 5\u001b[0m GER \u001b[38;5;241m=\u001b[39m \u001b[43mnx\u001b[49m\u001b[38;5;241m.\u001b[39merdos_renyi_graph(N,p,seed\u001b[38;5;241m=\u001b[39m\u001b[38;5;28;01mNone\u001b[39;00m, directed\u001b[38;5;241m=\u001b[39m\u001b[38;5;28;01mFalse\u001b[39;00m)\n\u001b[1;32m      6\u001b[0m r\u001b[38;5;241m=\u001b[39mnx\u001b[38;5;241m.\u001b[39mdegree_assortativity_coefficient(GER)\n\u001b[1;32m      7\u001b[0m \u001b[38;5;28mprint\u001b[39m(\u001b[38;5;124m\"\u001b[39m\u001b[38;5;124mAssortativity = \u001b[39m\u001b[38;5;124m\"\u001b[39m,\u001b[38;5;124m\"\u001b[39m\u001b[38;5;132;01m%3.4f\u001b[39;00m\u001b[38;5;124m\"\u001b[39m\u001b[38;5;241m%\u001b[39mr)\n",
      "\u001b[0;31mNameError\u001b[0m: name 'nx' is not defined"
     ]
    }
   ],
   "source": [
    "N = 1000\n",
    "for av_degree in [5, 10, 50]:\n",
    "    k = int(av_degree/2)\n",
    "    p = av_degree/(N-1)\n",
    "    GER = nx.erdos_renyi_graph(N,p,seed=None, directed=False)\n",
    "    r=nx.degree_assortativity_coefficient(GER)\n",
    "    print(\"Assortativity = \",\"%3.4f\"%r)"
   ]
  },
  {
   "cell_type": "markdown",
   "id": "a5b9b879",
   "metadata": {},
   "source": [
    "# Exercício 6"
   ]
  },
  {
   "cell_type": "code",
   "execution_count": 117,
   "id": "b5822cf7",
   "metadata": {},
   "outputs": [
    {
     "name": "stdout",
     "output_type": "stream",
     "text": [
      "Assortativity =  -0.0874\n",
      "Assortativity =  -0.0127\n",
      "Assortativity =  -0.0824\n"
     ]
    }
   ],
   "source": [
    "N = 100\n",
    "av_degree = 10\n",
    "k = int(av_degree/2)\n",
    "\n",
    "for p in [0.01, 0.05, 0.2]:\n",
    "    GWS = nx.watts_strogatz_graph(N, k, p, seed=None)\n",
    "    r=nx.degree_assortativity_coefficient(GWS)\n",
    "    print(\"Assortativity = \",\"%3.4f\"%r)"
   ]
  }
 ],
 "metadata": {
  "kernelspec": {
   "display_name": "Python 3 (ipykernel)",
   "language": "python",
   "name": "python3"
  },
  "language_info": {
   "codemirror_mode": {
    "name": "ipython",
    "version": 3
   },
   "file_extension": ".py",
   "mimetype": "text/x-python",
   "name": "python",
   "nbconvert_exporter": "python",
   "pygments_lexer": "ipython3",
   "version": "3.10.4"
  }
 },
 "nbformat": 4,
 "nbformat_minor": 5
}
