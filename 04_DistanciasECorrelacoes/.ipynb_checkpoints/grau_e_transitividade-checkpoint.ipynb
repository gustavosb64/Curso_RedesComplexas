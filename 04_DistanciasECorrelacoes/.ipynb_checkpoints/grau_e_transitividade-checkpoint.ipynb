{
 "cells": [
  {
   "cell_type": "markdown",
   "id": "4f2c51f9",
   "metadata": {
    "id": "4f2c51f9"
   },
   "source": [
    "# Redes Complexas: correlação de grau\n"
   ]
  },
  {
   "cell_type": "markdown",
   "id": "9eb6dc37",
   "metadata": {},
   "source": [
    "### Homofilia (homophily) ou assortative mixing\n",
    "\n",
    "* **Assortatividade de grau (Degree-degree cor"
   ]
  }
 ],
 "metadata": {
  "colab": {
   "collapsed_sections": [],
   "name": "sistemas lineares.ipynb",
   "provenance": []
  },
  "kernelspec": {
   "display_name": "Python 3 (ipykernel)",
   "language": "python",
   "name": "python3"
  },
  "language_info": {
   "codemirror_mode": {
    "name": "ipython",
    "version": 3
   },
   "file_extension": ".py",
   "mimetype": "text/x-python",
   "name": "python",
   "nbconvert_exporter": "python",
   "pygments_lexer": "ipython3",
   "version": "3.10.4"
  }
 },
 "nbformat": 4,
 "nbformat_minor": 5
}
