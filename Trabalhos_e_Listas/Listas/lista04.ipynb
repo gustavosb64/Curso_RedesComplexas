{
 "cells": [
  {
   "cell_type": "markdown",
   "id": "4f2c51f9",
   "metadata": {
    "id": "4f2c51f9"
   },
   "source": [
    "# Redes Complexas:  Lista04\n",
    "\n",
    "**Aluno:** Gustavo Siqueira Barbosa\n",
    "\n",
    "**Nº USP:** 10728122\n",
    "\n",
    "**Docente:** Francisco Aparecido Rodrigues, francisco@icmc.usp.br.\n",
    "\n",
    "Universidade de São Paulo, São Carlos, Brasil.\n"
   ]
  },
  {
   "cell_type": "code",
   "execution_count": 1,
   "id": "f5e579d2",
   "metadata": {},
   "outputs": [],
   "source": [
    "# Importando bibliotecas utilizadas\n",
    "import networkx as nx\n",
    "import networkx.algorithms.community as nxcm\n",
    "import numpy as np\n",
    "import scipy.stats as spstats\n",
    "import math"
   ]
  },
  {
   "cell_type": "markdown",
   "id": "b0a50c8e",
   "metadata": {},
   "source": [
    "### Questão 01\n",
    "Calcule a modularidade para a rede Jazz usando método fastgreedy."
   ]
  },
  {
   "cell_type": "code",
   "execution_count": 2,
   "id": "29fefa5f",
   "metadata": {},
   "outputs": [
    {
     "name": "stdout",
     "output_type": "stream",
     "text": [
      "Modularidade: 0.44\n"
     ]
    }
   ],
   "source": [
    "# Lendo os dados\n",
    "G= nx.read_edgelist(\"data/jazz.txt\", nodetype=int, data=(('weight',float),))\n",
    "G = G.to_undirected()\n",
    "G.remove_edges_from(nx.selfloop_edges(G))\n",
    "Gcc = sorted(nx.connected_components(G), key=len, reverse=True)\n",
    "G = G.subgraph(Gcc[0])\n",
    "G = nx.convert_node_labels_to_integers(G, first_label=0)\n",
    "\n",
    "# Aplicando o algoritmo fastgreedy para a detecção de comunidades\n",
    "communities = list(nxcm.greedy_modularity_communities(G))\n",
    "\n",
    "# Calculando a modularidade \n",
    "print(\"Modularidade: %.2f\"%nxcm.modularity(G, communities))"
   ]
  },
  {
   "cell_type": "markdown",
   "id": "3dee960b",
   "metadata": {},
   "source": [
    "### Questão 02\n",
    "Calcule a modularidade para a rede Jazz usando método Louvain."
   ]
  },
  {
   "cell_type": "code",
   "execution_count": 3,
   "id": "0a78bb47",
   "metadata": {},
   "outputs": [
    {
     "name": "stdout",
     "output_type": "stream",
     "text": [
      "Modularidade: 0.44\n"
     ]
    }
   ],
   "source": [
    "# Lendo os dados\n",
    "G= nx.read_edgelist(\"data/jazz.txt\", nodetype=int, data=(('weight',float),))\n",
    "G = G.to_undirected()\n",
    "G.remove_edges_from(nx.selfloop_edges(G))\n",
    "Gcc = sorted(nx.connected_components(G), key=len, reverse=True)\n",
    "G = G.subgraph(Gcc[0])\n",
    "G = nx.convert_node_labels_to_integers(G, first_label=0)\n",
    "\n",
    "# Aplicando o algoritmo de Louvain\n",
    "communities = nxcm.louvain_communities(G)\n",
    "\n",
    "# Calculando a modularidade \n",
    "print(\"Modularidade: %.2f\"%nxcm.modularity(G, communities))"
   ]
  },
  {
   "cell_type": "markdown",
   "id": "ac36fc17",
   "metadata": {},
   "source": [
    "### Questão 03\n",
    "Considere o método de geração de redes LFR_benchmark_graph. Obtenha os valores da modularidade para $\\mu =0.05$ , $\\mu=0.1$, $\\mu=0.2$. Use o código a seguir para gerar as redes. Use o algoritmo de **Louvain**."
   ]
  },
  {
   "cell_type": "code",
   "execution_count": 4,
   "id": "89ca7b74",
   "metadata": {},
   "outputs": [],
   "source": [
    "# Dados para gerar as redes por LFR_benchmark_graph\n",
    "N = 128\n",
    "tau1 = 3\n",
    "tau2 = 1.5\n",
    "k =16\n",
    "minc = 32\n",
    "maxc = 32"
   ]
  },
  {
   "cell_type": "code",
   "execution_count": 5,
   "id": "c81b5312",
   "metadata": {},
   "outputs": [
    {
     "name": "stdout",
     "output_type": "stream",
     "text": [
      "Modularidade: 0.6508\n"
     ]
    }
   ],
   "source": [
    "# Para mu = 0.05\n",
    "mu = 0.05\n",
    "G = nx.LFR_benchmark_graph(n = N, tau1 = tau1, tau2 = tau2, mu = mu, min_degree = k, max_degree = k, min_community=minc, max_community = maxc, seed = 10)\n",
    "\n",
    "# Aplicando o algoritmo de Louvain\n",
    "communities = nxcm.louvain_communities(G)\n",
    "# Calculando a modularidade \n",
    "print(\"Modularidade: %.4f\"%nxcm.modularity(G, communities))"
   ]
  },
  {
   "cell_type": "code",
   "execution_count": 6,
   "id": "da5ac684",
   "metadata": {},
   "outputs": [
    {
     "name": "stdout",
     "output_type": "stream",
     "text": [
      "Modularidade: 0.5496\n"
     ]
    }
   ],
   "source": [
    "# Para mu = 0.1\n",
    "mu = 0.1\n",
    "G = nx.LFR_benchmark_graph(n = N, tau1 = tau1, tau2 = tau2, mu = mu, min_degree = k, max_degree = k, min_community=minc, max_community = maxc, seed = 10)\n",
    "\n",
    "# Aplicando o algoritmo de Louvain\n",
    "communities = nxcm.louvain_communities(G)\n",
    "# Calculando a modularidade \n",
    "print(\"Modularidade: %.4f\"%nxcm.modularity(G, communities))"
   ]
  },
  {
   "cell_type": "code",
   "execution_count": 7,
   "id": "25f9eb3f",
   "metadata": {},
   "outputs": [
    {
     "name": "stdout",
     "output_type": "stream",
     "text": [
      "Modularidade: 0.4504\n"
     ]
    }
   ],
   "source": [
    "# Para mu = 0.2\n",
    "mu = 0.2\n",
    "G = nx.LFR_benchmark_graph(n = N, tau1 = tau1, tau2 = tau2, mu = mu, min_degree = k, max_degree = k, min_community=minc, max_community = maxc, seed = 10)\n",
    "\n",
    "# Aplicando o algoritmo de Louvain\n",
    "communities = nxcm.louvain_communities(G)\n",
    "# Calculando a modularidade \n",
    "print(\"Modularidade: %.4f\"%nxcm.modularity(G, communities))"
   ]
  },
  {
   "cell_type": "markdown",
   "id": "bd2a8158",
   "metadata": {},
   "source": [
    "Os resultados acima são bem próximos a 0.64, 0.54 e 0.44, das alternativas presentes no questionário. Diferença provavelmente ocorre por erro numérico dos métodos."
   ]
  },
  {
   "cell_type": "markdown",
   "id": "a78ef4f4",
   "metadata": {},
   "source": [
    "### Questão 04\n",
    "Considere o método de geração de redes LFR_benchmark_graph. Obtenha os valores da modularidade para $\\mu =0.05$ , $\\mu=0.2$, $\\mu=0.4$. Use o código a seguir para gerar as redes. Use o algoritmo **fastgreedy**."
   ]
  },
  {
   "cell_type": "code",
   "execution_count": 8,
   "id": "7b788a9b",
   "metadata": {},
   "outputs": [],
   "source": [
    "# Dados para gerar as redes por LFR_benchmark_graph\n",
    "N = 128\n",
    "tau1 = 3\n",
    "tau2 = 1.5\n",
    "k =16\n",
    "minc = 32\n",
    "maxc = 32"
   ]
  },
  {
   "cell_type": "code",
   "execution_count": 9,
   "id": "f2baa561",
   "metadata": {},
   "outputs": [
    {
     "name": "stdout",
     "output_type": "stream",
     "text": [
      "Modularidade: 0.6508\n"
     ]
    }
   ],
   "source": [
    "# Para mu = 0.05\n",
    "mu = 0.05\n",
    "G = nx.LFR_benchmark_graph(n = N, tau1 = tau1, tau2 = tau2, mu = mu, min_degree = k, max_degree = k, min_community=minc, max_community = maxc, seed = 10)\n",
    "\n",
    "# Aplicando o algoritmo fastgreedy\n",
    "communities = nxcm.greedy_modularity_communities(G)\n",
    "# Calculando a modularidade \n",
    "print(\"Modularidade: %.4f\"%nxcm.modularity(G, communities))"
   ]
  },
  {
   "cell_type": "code",
   "execution_count": 10,
   "id": "3d65e2a8",
   "metadata": {},
   "outputs": [
    {
     "name": "stdout",
     "output_type": "stream",
     "text": [
      "Modularidade: 0.4404\n"
     ]
    }
   ],
   "source": [
    "# Para mu = 0.2\n",
    "mu = 0.2\n",
    "G = nx.LFR_benchmark_graph(n = N, tau1 = tau1, tau2 = tau2, mu = mu, min_degree = k, max_degree = k, min_community=minc, max_community = maxc, seed = 10)\n",
    "\n",
    "# Aplicando o algoritmo fastgreedy\n",
    "communities = nxcm.greedy_modularity_communities(G)\n",
    "# Calculando a modularidade \n",
    "print(\"Modularidade: %.4f\"%nxcm.modularity(G, communities))"
   ]
  },
  {
   "cell_type": "code",
   "execution_count": 11,
   "id": "af314919",
   "metadata": {},
   "outputs": [
    {
     "name": "stdout",
     "output_type": "stream",
     "text": [
      "Modularidade: 0.1643\n"
     ]
    }
   ],
   "source": [
    "# Para mu = 0.4\n",
    "mu = 0.4\n",
    "G = nx.LFR_benchmark_graph(n = N, tau1 = tau1, tau2 = tau2, mu = mu, min_degree = k, max_degree = k, min_community=minc, max_community = maxc, seed = 10)\n",
    "\n",
    "# Aplicando o algoritmo fastgreedy\n",
    "communities = nxcm.greedy_modularity_communities(G)\n",
    "# Calculando a modularidade \n",
    "print(\"Modularidade: %.4f\"%nxcm.modularity(G, communities))"
   ]
  },
  {
   "cell_type": "markdown",
   "id": "9a978734",
   "metadata": {},
   "source": [
    "Os resultados acima são bem próximos a 0.64, 0.54 e 0.44, das alternativas presentes no questionário. Diferença provavelmente ocorre por erro numérico dos métodos."
   ]
  }
 ],
 "metadata": {
  "colab": {
   "collapsed_sections": [],
   "name": "sistemas lineares.ipynb",
   "provenance": []
  },
  "kernelspec": {
   "display_name": "Python 3 (ipykernel)",
   "language": "python",
   "name": "python3"
  },
  "language_info": {
   "codemirror_mode": {
    "name": "ipython",
    "version": 3
   },
   "file_extension": ".py",
   "mimetype": "text/x-python",
   "name": "python",
   "nbconvert_exporter": "python",
   "pygments_lexer": "ipython3",
   "version": "3.10.4"
  }
 },
 "nbformat": 4,
 "nbformat_minor": 5
}
