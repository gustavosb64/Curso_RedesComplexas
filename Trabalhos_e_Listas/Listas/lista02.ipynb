{
 "cells": [
  {
   "cell_type": "markdown",
   "id": "4f2c51f9",
   "metadata": {
    "id": "4f2c51f9"
   },
   "source": [
    "# Redes Complexas:  Lista02\n",
    "\n",
    "**Aluno:** Gustavo Siqueira Barbosa\n",
    "\n",
    "**Nº USP:** 10728122\n",
    "\n",
    "**Docente:** Francisco Aparecido Rodrigues, francisco@icmc.usp.br.\n",
    "\n",
    "Universidade de São Paulo, São Carlos, Brasil.\n"
   ]
  },
  {
   "cell_type": "code",
   "execution_count": 2,
   "id": "f5e579d2",
   "metadata": {},
   "outputs": [],
   "source": [
    "# Importando bibliotecas utilizadas\n",
    "import networkx as nx\n",
    "import numpy as np\n",
    "import math"
   ]
  },
  {
   "cell_type": "markdown",
   "id": "b0a50c8e",
   "metadata": {},
   "source": [
    "### Questão 01\n",
    "Para a rede social Hamsterster, calcule a média dos menores caminhos e o diâmetro. Considere apenas o maior componente."
   ]
  },
  {
   "cell_type": "code",
   "execution_count": 11,
   "id": "29fefa5f",
   "metadata": {},
   "outputs": [
    {
     "name": "stdout",
     "output_type": "stream",
     "text": [
      "Média dos menores caminhos:3.453\n",
      "Diâmetro:14.000\n"
     ]
    }
   ],
   "source": [
    "import matplotlib.pyplot as plt\n",
    "\n",
    "# Lendo os dados\n",
    "G= nx.read_edgelist(\"data/hamsterster.txt\", nodetype=int, data=(('weight',float),))\n",
    "G = G.to_undirected()\n",
    "G.remove_edges_from(nx.selfloop_edges(G))\n",
    "Gcc = sorted(nx.connected_components(G), key=len, reverse=True)\n",
    "G = G.subgraph(Gcc[0])\n",
    "G = nx.convert_node_labels_to_integers(G, first_label=0)\n",
    "\n",
    "# Calculando a média dos menores caminhos\n",
    "avg_shortest_path = nx.average_shortest_path_length(G)\n",
    "\n",
    "# Calculando o diâmetro (caminho mais curto com a maior medida)\n",
    "diameter = nx.diameter(G)\n",
    "\n",
    "print(\"Média dos menores caminhos:%.3f\"%avg_shortest_path)\n",
    "print(\"Diâmetro:%.3f\"%diameter)"
   ]
  },
  {
   "cell_type": "markdown",
   "id": "3dee960b",
   "metadata": {},
   "source": [
    "### Questão 02\n",
    "Para a rede de aeroportos (base USairport500), calcule a média e variância do comprimento dos menores caminhos. Considere apenas o maior componente na rede."
   ]
  },
  {
   "cell_type": "code",
   "execution_count": 40,
   "id": "0a78bb47",
   "metadata": {},
   "outputs": [
    {
     "name": "stdout",
     "output_type": "stream",
     "text": [
      "Média dos menores caminhos: 2.991\n",
      "Variância: 0.818\n"
     ]
    }
   ],
   "source": [
    "# Lendo os dados\n",
    "G= nx.read_edgelist(\"data/USairport500.txt\", nodetype=int, data=(('weight',float),))\n",
    "G = G.to_undirected()\n",
    "G.remove_edges_from(nx.selfloop_edges(G))\n",
    "Gcc = sorted(nx.connected_components(G), key=len, reverse=True)\n",
    "G = G.subgraph(Gcc[0])\n",
    "G = nx.convert_node_labels_to_integers(G, first_label=0)\n",
    "\n",
    "# Calculando a média dos menores caminhos\n",
    "avg_shortest_path = nx.average_shortest_path_length(G)\n",
    "\n",
    "# Armazenando os menores caminhos em um vetor\n",
    "N = G.number_of_nodes()\n",
    "v = np.zeros( int((N**2 - N)/2) )\n",
    "v_idx = 0\n",
    "for i in range(N):\n",
    "    for j in range(i+1, N):\n",
    "        aux = nx.shortest_path(G,i,j)\n",
    "        v[v_idx] = len(aux)-1\n",
    "        v_idx += 1\n",
    "\n",
    "# Calculando a variância\n",
    "var = np.var(v)\n",
    "print(\"Média dos menores caminhos: %.3f\"%avg_shortest_path)\n",
    "print(\"Variância: %.3f\"%np.var(v))"
   ]
  },
  {
   "cell_type": "markdown",
   "id": "ac36fc17",
   "metadata": {},
   "source": [
    "### Questão 03\n",
    "Calcule o coeficiente de assortatividade para a rede Advogato. Considere apenas o maior componente."
   ]
  },
  {
   "cell_type": "code",
   "execution_count": 5,
   "id": "89ca7b74",
   "metadata": {},
   "outputs": [
    {
     "name": "stdout",
     "output_type": "stream",
     "text": [
      "Assortatividade: -0.095721\n"
     ]
    }
   ],
   "source": [
    "# Lendo os dados\n",
    "G= nx.read_edgelist(\"data/advogato.txt\", nodetype=int, data=(('weight',float),))\n",
    "G = G.to_undirected()\n",
    "G.remove_edges_from(nx.selfloop_edges(G))\n",
    "Gcc = sorted(nx.connected_components(G), key=len, reverse=True)\n",
    "G = G.subgraph(Gcc[0])\n",
    "G = nx.convert_node_labels_to_integers(G, first_label=0)\n",
    "\n",
    "# Calculando o coeficiente de assortatividade\n",
    "coef_assortativity = nx.degree_assortativity_coefficient(G)\n",
    "print(\"Assortatividade: %3f\"%coef_assortativity)"
   ]
  },
  {
   "cell_type": "markdown",
   "id": "be524715",
   "metadata": {},
   "source": [
    "### Questão 04\n",
    "Para a rede de aeroportos (USairport500), calcule a entropia de Shannon considerando o comprimento dos menores caminhos. Use o logaritmo na base 2 e considere apenas o maior componente."
   ]
  },
  {
   "cell_type": "code",
   "execution_count": 42,
   "id": "fdd7ebb7",
   "metadata": {},
   "outputs": [
    {
     "name": "stdout",
     "output_type": "stream",
     "text": [
      "1.883667007854659\n"
     ]
    }
   ],
   "source": [
    "# Lendo os dados\n",
    "G= nx.read_edgelist(\"data/USairport500.txt\", nodetype=int, data=(('weight',float),))\n",
    "G = G.to_undirected()\n",
    "G.remove_edges_from(nx.selfloop_edges(G))\n",
    "Gcc = sorted(nx.connected_components(G), key=len, reverse=True)\n",
    "G = G.subgraph(Gcc[0])\n",
    "G = nx.convert_node_labels_to_integers(G, first_label=0)\n",
    "\n",
    "# Função para o cálculo da entropia de Shannon\n",
    "def shannon_entropy(deg_arr):\n",
    "    \n",
    "    #deg_arr = np.array(list( (dict(G.degree())).values() ))\n",
    "    P = np.zeros(np.max(deg_arr)+1) \n",
    "    \n",
    "    for k in deg_arr:\n",
    "        P[k] += 1\n",
    "    P /= sum(P) \n",
    "     \n",
    "    H = 0\n",
    "    for pk in P:\n",
    "        if pk > 0: H -= pk * math.log(pk,2)\n",
    "    return H\n",
    "\n",
    "# Armazenando os menores caminhos em um vetor\n",
    "N = G.number_of_nodes()\n",
    "v = np.zeros( int((N**2 - N)/2) )\n",
    "v_idx = 0\n",
    "for i in range(N):\n",
    "    for j in range(i+1, N):\n",
    "        aux = nx.shortest_path(G,i,j)\n",
    "        v[v_idx] = len(aux)-1\n",
    "        v_idx += 1\n",
    "        \n",
    "print(shannon_entropy(v.astype(int)))"
   ]
  },
  {
   "cell_type": "markdown",
   "id": "65ad592a",
   "metadata": {},
   "source": [
    "### Questão 05\n",
    "Calcule o coeficiente de correlação de Pearson entre o grau médio dos vizinhos e o grau para a rede de palavras (word_adjacencies). Considere apenas o maior componente conectado."
   ]
  },
  {
   "cell_type": "code",
   "execution_count": 69,
   "id": "1a02ee94",
   "metadata": {},
   "outputs": [
    {
     "name": "stdout",
     "output_type": "stream",
     "text": [
      "Coeficiente de correlação de Pearson: -0.711\n"
     ]
    }
   ],
   "source": [
    "# Lendo os dados\n",
    "G= nx.read_edgelist(\"data/word_adjacencies.txt\", nodetype=int, data=(('weight',float),))\n",
    "G = G.to_undirected()\n",
    "G.remove_edges_from(nx.selfloop_edges(G))\n",
    "Gcc = sorted(nx.connected_components(G), key=len, reverse=True)\n",
    "G = G.subgraph(Gcc[0])\n",
    "G = nx.convert_node_labels_to_integers(G, first_label=0)\n",
    "\n",
    "\n",
    "N = G.number_of_nodes()\n",
    "\n",
    "knn = np.zeros(N)\n",
    "k_idx = 0\n",
    "for i in G.nodes():\n",
    "    aux =  nx.average_neighbor_degree(G, nodes = [i])\n",
    "    knn[k_idx] = float(aux[i])\n",
    "    k_idx += 1\n",
    "\n",
    "vk = list(dict(G.degree()).values())\n",
    "\n",
    "vk_min = np.min(vk)\n",
    "vk_max = np.max(vk)\n",
    "\n",
    "knnk = np.zeros(vk_max - vk_min + 1)\n",
    "ks = np.zeros(vk_max - vk_min + 1)\n",
    "\n",
    "ks_idx = 0\n",
    "for k in np.arange(vk_min, vk_max+1):\n",
    "    aux = vk == k\n",
    "    if(len(knn[aux]) > 0):\n",
    "        avg_knn = np.mean(knn[aux]) \n",
    "        \n",
    "        knnk[ks_idx] = avg_knn\n",
    "        ks[ks_idx] = k\n",
    "        \n",
    "        ks_idx += 1\n",
    "\n",
    "knnk = knnk[:ks_idx]\n",
    "ks = ks[:ks_idx]\n",
    "\n",
    "coef_pearson = np.corrcoef(ks, knnk)[0,1]\n",
    "print('Coeficiente de correlação de Pearson: %.3f'%coef_pearson)"
   ]
  }
 ],
 "metadata": {
  "colab": {
   "collapsed_sections": [],
   "name": "sistemas lineares.ipynb",
   "provenance": []
  },
  "kernelspec": {
   "display_name": "Python 3 (ipykernel)",
   "language": "python",
   "name": "python3"
  },
  "language_info": {
   "codemirror_mode": {
    "name": "ipython",
    "version": 3
   },
   "file_extension": ".py",
   "mimetype": "text/x-python",
   "name": "python",
   "nbconvert_exporter": "python",
   "pygments_lexer": "ipython3",
   "version": "3.10.4"
  }
 },
 "nbformat": 4,
 "nbformat_minor": 5
}
