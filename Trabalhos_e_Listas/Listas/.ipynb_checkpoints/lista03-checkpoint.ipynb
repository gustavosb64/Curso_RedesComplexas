{
 "cells": [
  {
   "cell_type": "markdown",
   "id": "4f2c51f9",
   "metadata": {
    "id": "4f2c51f9"
   },
   "source": [
    "# Redes Complexas:  Lista03\n",
    "\n",
    "**Aluno:** Gustavo Siqueira Barbosa\n",
    "\n",
    "**Nº USP:** 10728122\n",
    "\n",
    "**Docente:** Francisco Aparecido Rodrigues, francisco@icmc.usp.br.\n",
    "\n",
    "Universidade de São Paulo, São Carlos, Brasil.\n"
   ]
  },
  {
   "cell_type": "code",
   "execution_count": 26,
   "id": "f5e579d2",
   "metadata": {},
   "outputs": [],
   "source": [
    "# Importando bibliotecas utilizadas\n",
    "import networkx as nx\n",
    "import numpy as np\n",
    "import scipy.stats as spstats\n",
    "import math"
   ]
  },
  {
   "cell_type": "markdown",
   "id": "b0a50c8e",
   "metadata": {},
   "source": [
    "### Questão 01\n",
    "A média medida eigenvector centrality da rede USairport500 é igual a quanto? Considere apenas o maior componente."
   ]
  },
  {
   "cell_type": "code",
   "execution_count": 7,
   "id": "29fefa5f",
   "metadata": {},
   "outputs": [
    {
     "name": "stdout",
     "output_type": "stream",
     "text": [
      "Eigenvector centrality:  0.022754398239423664\n"
     ]
    }
   ],
   "source": [
    "import matplotlib.pyplot as plt\n",
    "\n",
    "# Lendo os dados\n",
    "G= nx.read_edgelist(\"data/USairport500.txt\", nodetype=int, data=(('weight',float),))\n",
    "G = G.to_undirected()\n",
    "G.remove_edges_from(nx.selfloop_edges(G))\n",
    "Gcc = sorted(nx.connected_components(G), key=len, reverse=True)\n",
    "G = G.subgraph(Gcc[0])\n",
    "G = nx.convert_node_labels_to_integers(G, first_label=0)\n",
    "\n",
    "# Calculando a eigenvector centrality\n",
    "EC = list(dict(nx.eigenvector_centrality(G, max_iter = 1000)).values())\n",
    "print(\"Eigenvector centrality: \", np.mean(EC))"
   ]
  },
  {
   "cell_type": "markdown",
   "id": "3dee960b",
   "metadata": {},
   "source": [
    "### Questão 02\n",
    "Calcule a correlação de Pearson entre a medida betweeness centrality e grau para a rede hamsterster."
   ]
  },
  {
   "cell_type": "code",
   "execution_count": 16,
   "id": "0a78bb47",
   "metadata": {},
   "outputs": [
    {
     "name": "stdout",
     "output_type": "stream",
     "text": [
      "Betweenness centrality: [3.23013952e-03 4.35916363e-03 4.69760985e-06 ... 0.00000000e+00\n",
      " 2.17060556e-05 4.69760985e-06]\n"
     ]
    }
   ],
   "source": [
    "# Lendo os dados\n",
    "G= nx.read_edgelist(\"data/hamsterster.txt\", nodetype=int, data=(('weight',float),))\n",
    "G = G.to_undirected()\n",
    "G.remove_edges_from(nx.selfloop_edges(G))\n",
    "Gcc = sorted(nx.connected_components(G), key=len, reverse=True)\n",
    "G = G.subgraph(Gcc[0])\n",
    "G = nx.convert_node_labels_to_integers(G, first_label=0)\n",
    "\n",
    "# Calculando betweenness centrality\n",
    "B = np.array(list(dict(nx.betweenness_centrality(G)).values()))\n",
    "print(\"Betweenness centrality:\", B)"
   ]
  },
  {
   "cell_type": "code",
   "execution_count": 17,
   "id": "29604782",
   "metadata": {},
   "outputs": [
    {
     "name": "stdout",
     "output_type": "stream",
     "text": [
      "Degree centrality: [27 45  3 ...  1  8  3]\n"
     ]
    }
   ],
   "source": [
    "# Calculando degree centrality\n",
    "Dg = np.array(list(dict(G.degree()).values()))\n",
    "print(\"Degree centrality:\", Dg)"
   ]
  },
  {
   "cell_type": "code",
   "execution_count": 18,
   "id": "f61139a5",
   "metadata": {},
   "outputs": [
    {
     "name": "stdout",
     "output_type": "stream",
     "text": [
      "Pearson correlation: [[1.         0.82424352]\n",
      " [0.82424352 1.        ]]\n"
     ]
    }
   ],
   "source": [
    "# Calculando correlação de Pearson\n",
    "Pear = np.corrcoef(B, Dg)\n",
    "print(\"Pearson correlation:\",Pear)"
   ]
  },
  {
   "cell_type": "markdown",
   "id": "e31fda2b",
   "metadata": {},
   "source": [
    "Valor da correlação é 0.824"
   ]
  },
  {
   "cell_type": "markdown",
   "id": "ac36fc17",
   "metadata": {},
   "source": [
    "### Questão 03\n",
    "Calcule o coeficiente de correlação de Spearman entre as medidas closeness centrality e k-core para a rede \"Jazz\"."
   ]
  },
  {
   "cell_type": "code",
   "execution_count": 22,
   "id": "89ca7b74",
   "metadata": {},
   "outputs": [],
   "source": [
    "# Lendo os dados\n",
    "G= nx.read_edgelist(\"data/jazz.txt\", nodetype=int, data=(('weight',float),))\n",
    "G = G.to_undirected()\n",
    "G.remove_edges_from(nx.selfloop_edges(G))\n",
    "Gcc = sorted(nx.connected_components(G), key=len, reverse=True)\n",
    "G = G.subgraph(Gcc[0])\n",
    "G = nx.convert_node_labels_to_integers(G, first_label=0)\n",
    "\n",
    "# Calculando closeness centrality\n",
    "close_centr = np.array(list(dict(nx.closeness_centrality(G)).values()))\n",
    "#print(\"Closeness centrality:\",close_centr)"
   ]
  },
  {
   "cell_type": "code",
   "execution_count": 24,
   "id": "3f1f3167",
   "metadata": {},
   "outputs": [
    {
     "name": "stdout",
     "output_type": "stream",
     "text": [
      "[18 18 18 29 11 18 29 18 18 21 21 29 29 29 29 18 15 29 29 29 29 10 29 21\n",
      "  3 20 21 21  4  4 17 17 17 16 17 17 17 17 17 17 17 17 17 17 17 17 17 20\n",
      "  1 13 17 17 15 21 21 17 15 15 15 17 17 17 15 15 15 17 21 17 15 17 16 11\n",
      " 17 21 21 21  2  2  2 21 20 16 21 21 20 21 21 21 21 21 20  9 21 19 21 21\n",
      " 21 20 13 21 29 21 21 20 21 20 21 20 21 20 21 21 19 21 14 21 21 21 21 17\n",
      " 29 21 21 21 21 15 13 29 15 15 14 12 29 13 15 15 29 20 20 20  4  4  4 13\n",
      "  8  8  8 15 29 29  2 29 20 17 21 17 11 19 21 21 14  1  3 29 29 29 29 29\n",
      " 29 29 29 29 29 29  8 11 14 14 15  4  4  3  6  6  7  7 11  8 15  3  6 10\n",
      " 12 17  1  2  1  1]\n"
     ]
    }
   ],
   "source": [
    "# Calculando k-core\n",
    "k_cores = np.array(list(dict(nx.core_number(G)).values()))\n",
    "print(k_cores)"
   ]
  },
  {
   "cell_type": "code",
   "execution_count": 27,
   "id": "f4721d49",
   "metadata": {},
   "outputs": [
    {
     "name": "stdout",
     "output_type": "stream",
     "text": [
      "SpearmanrResult(correlation=0.7353399833516918, pvalue=5.889403279320568e-35)\n"
     ]
    }
   ],
   "source": [
    "# Calculando correlação de Spearman\n",
    "spearman_corr = spstats.spearmanr(close_centr, k_cores)\n",
    "print(spearman_corr)"
   ]
  }
 ],
 "metadata": {
  "colab": {
   "collapsed_sections": [],
   "name": "sistemas lineares.ipynb",
   "provenance": []
  },
  "kernelspec": {
   "display_name": "Python 3 (ipykernel)",
   "language": "python",
   "name": "python3"
  },
  "language_info": {
   "codemirror_mode": {
    "name": "ipython",
    "version": 3
   },
   "file_extension": ".py",
   "mimetype": "text/x-python",
   "name": "python",
   "nbconvert_exporter": "python",
   "pygments_lexer": "ipython3",
   "version": "3.10.4"
  }
 },
 "nbformat": 4,
 "nbformat_minor": 5
}
