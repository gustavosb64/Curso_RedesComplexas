{
 "cells": [
  {
   "cell_type": "markdown",
   "id": "4f2c51f9",
   "metadata": {
    "id": "4f2c51f9"
   },
   "source": [
    "# Redes Complexas:  Lista05\n",
    "\n",
    "**Aluno:** Gustavo Siqueira Barbosa\n",
    "\n",
    "**Nº USP:** 10728122\n",
    "\n",
    "**Docente:** Francisco Aparecido Rodrigues, francisco@icmc.usp.br.\n",
    "\n",
    "Universidade de São Paulo, São Carlos, Brasil.\n"
   ]
  },
  {
   "cell_type": "code",
   "execution_count": 2,
   "id": "f5e579d2",
   "metadata": {},
   "outputs": [],
   "source": [
    "# Importando bibliotecas utilizadas\n",
    "import networkx as nx\n",
    "import networkx.algorithms.community as nxcm\n",
    "import numpy as np\n",
    "import scipy.stats as spstats\n",
    "import math"
   ]
  },
  {
   "cell_type": "markdown",
   "id": "b0a50c8e",
   "metadata": {},
   "source": [
    "### Questão 01\n",
    "Gere um grafo aleatório com N=1000 e p = 0.1. Qual o valor do grau médio, segundo momento do grau e coeficiente de aglomeração médio (average clustering coefficient)? Considere os valores mais próximos."
   ]
  },
  {
   "cell_type": "code",
   "execution_count": 229,
   "id": "29fefa5f",
   "metadata": {},
   "outputs": [
    {
     "name": "stdout",
     "output_type": "stream",
     "text": [
      "Grau médio: 99.906\n"
     ]
    }
   ],
   "source": [
    "# Gerando grafo\n",
    "N = 1000\n",
    "p = 0.1\n",
    "G = nx.gnp_random_graph(N, p, seed=None, directed=False)\n",
    "\n",
    "# Calculando grau médio\n",
    "N = len(G)\n",
    "M = G.number_of_edges()\n",
    "print('Grau médio:', 2*M/N)"
   ]
  },
  {
   "cell_type": "code",
   "execution_count": 230,
   "id": "5c412888",
   "metadata": {},
   "outputs": [
    {
     "name": "stdout",
     "output_type": "stream",
     "text": [
      "Segundo momento: 10067.176\n"
     ]
    }
   ],
   "source": [
    "# Função para o cálculo do momento\n",
    "def moment(G,m):\n",
    "    \n",
    "    M = 0.0 # Momento se inicializa em 0\n",
    "    for i in G.nodes:\n",
    "        M += G.degree(i)**m\n",
    "    \n",
    "    return M/len(G)\n",
    "\n",
    "# Calculando segundo momento\n",
    "print(\"Segundo momento:\", moment(G,2))"
   ]
  },
  {
   "cell_type": "markdown",
   "id": "0ebb1977",
   "metadata": {},
   "source": [
    "O coeficiente de aglomeração de um grafo aleatoriamente gerado é constante e equivalente a $p$. Portanto, neste caso, temos $p=0.1$."
   ]
  },
  {
   "cell_type": "markdown",
   "id": "3dee960b",
   "metadata": {},
   "source": [
    "### Questão 02\n",
    "Gere um small-world com N=1000, grau médio igual 10 e p = 0.1. Qual o valor do grau médio, segundo momento do grau e coeficiente de aglomeração médio (average clustering coefficient)? Aproxime os valores."
   ]
  },
  {
   "cell_type": "code",
   "execution_count": 199,
   "id": "0a78bb47",
   "metadata": {},
   "outputs": [
    {
     "name": "stdout",
     "output_type": "stream",
     "text": [
      "Grau médio: 99.482\n",
      "Segundo momento: 100.932\n",
      "Coeficiente de aglomeração médio: 0.4857852813852819\n"
     ]
    }
   ],
   "source": [
    "# Gerando grafo\n",
    "N = 1000\n",
    "av_degree = 10\n",
    "p = 0.1 \n",
    "\n",
    "k = int(av_degree/2)\n",
    "GWS = nx.watts_strogatz_graph(N, av_degree, p, seed=None)\n",
    "\n",
    "# Calculando grau médio\n",
    "N = len(G)\n",
    "M = G.number_of_edges()\n",
    "print(\"Grau médio:\", 2*M/N)\n",
    "\n",
    "# Calculando segundo momento\n",
    "print(\"Segundo momento:\", moment(GWS,2))\n",
    "\n",
    "# Calculando coeficiente de aglomeração médio\n",
    "print(\"Coeficiente de aglomeração médio:\",nx.average_clustering(GWS))"
   ]
  },
  {
   "cell_type": "markdown",
   "id": "ac36fc17",
   "metadata": {},
   "source": [
    "### Questão 03\n",
    "Considere uma rede aleatória (Erdos-Renyi) com N=1000 vértices. Qual o valor da entropia de Shannon do grau para ⟨k⟩=5,  ⟨k⟩=10,  ⟨k⟩=50? Aproxime os valores."
   ]
  },
  {
   "cell_type": "code",
   "execution_count": 226,
   "id": "89ca7b74",
   "metadata": {},
   "outputs": [
    {
     "name": "stdout",
     "output_type": "stream",
     "text": [
      "Entropia de Shannon para k= 5: 2.44\n",
      "Entropia de Shannon para k= 10: 3.14\n",
      "Entropia de Shannon para k= 50: 4.31\n"
     ]
    }
   ],
   "source": [
    "# Função para o cálculo da entropia de Shannon\n",
    "def shannon_entropy(G):\n",
    "    \n",
    "    # Cria um array com os graus dos vértices\n",
    "    deg_arr = np.array(list( (dict(G.degree())).values() ))\n",
    "    \n",
    "    # Array para armazenar a distribuição de graus.\n",
    "    P = np.zeros(np.max(deg_arr)+1) \n",
    "    \n",
    "    # Calcula a distribuição de graus somando a quantidade de vértices de cada grau e tirando a média\n",
    "    for k in deg_arr:\n",
    "        P[k] += 1\n",
    "    P /= sum(P) \n",
    "    \n",
    "    # Cálculo da entropia\n",
    "    H = 0\n",
    "    for pk in P:\n",
    "        if pk > 0: H -= pk * math.log(pk,2)\n",
    "    return H\n",
    "\n",
    "N = 1000\n",
    "k_list = [5, 10, 50]\n",
    "for k in k_list:\n",
    "    GER = nx.watts_strogatz_graph(N,k,1, seed=None)\n",
    "    print(\"Entropia de Shannon para k= \"+str(k)+\": %.2f\"%shannon_entropy(GER))"
   ]
  },
  {
   "cell_type": "markdown",
   "id": "a78ef4f4",
   "metadata": {},
   "source": [
    "### Questão 04\n",
    "4 - Para o modelo small-world, calcule o valor da menor distância média (average shortest path) para p=0; p=0.01; p=0.05 e p=0.1. Considere N=100 e grau médio igual a 8. Considere os valores mais próximos."
   ]
  },
  {
   "cell_type": "code",
   "execution_count": 201,
   "id": "7b788a9b",
   "metadata": {},
   "outputs": [
    {
     "name": "stdout",
     "output_type": "stream",
     "text": [
      "Menor distância média para p = 0: 12.88\n",
      "Menor distância média para p = 0.01: 11.04\n",
      "Menor distância média para p = 0.05: 7.68\n",
      "Menor distância média para p = 0.1: 4.77\n"
     ]
    }
   ],
   "source": [
    "# Gerando o grafo\n",
    "N = 100\n",
    "av_degree = 8\n",
    "k = int(av_degree/2)\n",
    "\n",
    "p_list = [0, 0.01, 0.05, 0.1]\n",
    "for p in p_list:\n",
    "    GWS = nx.watts_strogatz_graph(N, k, p, seed=None)\n",
    "    print(\"Menor distância média para p = \"+str(p)+\": %.2f\"%nx.average_shortest_path_length(GWS))"
   ]
  },
  {
   "cell_type": "markdown",
   "id": "7747bf23",
   "metadata": {},
   "source": [
    "### Questão 05\n",
    "\n",
    "Considere o modelo de Erdos-Renyi. Gere redes com grau médio igual a 5, 10 e 50 e N=1000. Qual o valor da assortatividade? Aproxime os valores."
   ]
  },
  {
   "cell_type": "code",
   "execution_count": 202,
   "id": "73627472",
   "metadata": {},
   "outputs": [
    {
     "name": "stdout",
     "output_type": "stream",
     "text": [
      "Assortatividade para grau médio = 5: -0.02\n",
      "Assortatividade para grau médio = 10: -0.00\n",
      "Assortatividade para grau médio = 50: -0.04\n"
     ]
    }
   ],
   "source": [
    "N = 1000\n",
    "av_deg_list = [5, 10, 50]\n",
    "\n",
    "for av_deg in av_deg_list:\n",
    "    p = av_degree/(N-1)\n",
    "    G = nx.gnp_random_graph(N, p, seed=None, directed=False)\n",
    "    print(\"Assortatividade para grau médio = \"+str(av_deg)+\": %.2f\"%nx.degree_assortativity_coefficient(G))"
   ]
  },
  {
   "cell_type": "markdown",
   "id": "f2b320d3",
   "metadata": {},
   "source": [
    "### Questão 06\n",
    "\n",
    "Considere o modelo small-world. Gere redes com grau médio 10 e N=1000. Qual o valor da assortatividade para p=0.01; 0.05 e 0.2? Aproxime os valores."
   ]
  },
  {
   "cell_type": "code",
   "execution_count": 203,
   "id": "5f8d98e9",
   "metadata": {},
   "outputs": [
    {
     "name": "stdout",
     "output_type": "stream",
     "text": [
      "Assortatividade para p = 0.01: 0.01\n",
      "Assortatividade para p = 0.05: -0.01\n",
      "Assortatividade para p = 0.2: -0.04\n"
     ]
    }
   ],
   "source": [
    "N = 1000\n",
    "av_degree = 10\n",
    "k = int(av_degree/2)\n",
    "\n",
    "p_list = [0.01, 0.05, 0.2]\n",
    "for p in p_list:\n",
    "    GWS = nx.watts_strogatz_graph(N, k, p, seed=None)\n",
    "    print(\"Assortatividade para p = \"+str(p)+\": %.2f\"%nx.degree_assortativity_coefficient(GWS))"
   ]
  }
 ],
 "metadata": {
  "colab": {
   "collapsed_sections": [],
   "name": "sistemas lineares.ipynb",
   "provenance": []
  },
  "kernelspec": {
   "display_name": "Python 3 (ipykernel)",
   "language": "python",
   "name": "python3"
  },
  "language_info": {
   "codemirror_mode": {
    "name": "ipython",
    "version": 3
   },
   "file_extension": ".py",
   "mimetype": "text/x-python",
   "name": "python",
   "nbconvert_exporter": "python",
   "pygments_lexer": "ipython3",
   "version": "3.10.4"
  }
 },
 "nbformat": 4,
 "nbformat_minor": 5
}
