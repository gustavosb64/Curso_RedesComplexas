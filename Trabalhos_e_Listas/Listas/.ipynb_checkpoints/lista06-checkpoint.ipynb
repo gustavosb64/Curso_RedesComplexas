{
 "cells": [
  {
   "cell_type": "markdown",
   "id": "4f2c51f9",
   "metadata": {
    "id": "4f2c51f9"
   },
   "source": [
    "# Redes Complexas:  Lista06\n",
    "\n",
    "**Aluno:** Gustavo Siqueira Barbosa\n",
    "\n",
    "**Nº USP:** 10728122\n",
    "\n",
    "**Docente:** Francisco Aparecido Rodrigues, francisco@icmc.usp.br.\n",
    "\n",
    "Universidade de São Paulo, São Carlos, Brasil.\n"
   ]
  },
  {
   "cell_type": "code",
   "execution_count": 1,
   "id": "f5e579d2",
   "metadata": {},
   "outputs": [],
   "source": [
    "# Importando bibliotecas utilizadas\n",
    "import networkx as nx\n",
    "import networkx.algorithms.community as nxcm\n",
    "import numpy as np\n",
    "import scipy.stats as spstats\n",
    "import math\n",
    "from random import randint"
   ]
  },
  {
   "cell_type": "markdown",
   "id": "b0a50c8e",
   "metadata": {},
   "source": [
    "### Questão 01\n",
    "Calcule o coeficiente aglomeração e segundo momento do grau para uma rede BA com grau médio igual a 10 e N=1000."
   ]
  },
  {
   "cell_type": "code",
   "execution_count": 2,
   "id": "29fefa5f",
   "metadata": {},
   "outputs": [
    {
     "name": "stdout",
     "output_type": "stream",
     "text": [
      "Coeficiente de aglomeração médio: 0.04306333161442583\n"
     ]
    }
   ],
   "source": [
    "# Gerando grafo\n",
    "N = 1000\n",
    "av_degree = 10\n",
    "m = int(av_degree/2)\n",
    "GBA = nx.barabasi_albert_graph(N, m)\n",
    "\n",
    "# Calculando coeficiente de aglomeração\n",
    "N = len(GBA)\n",
    "M = GBA.number_of_edges()\n",
    "print(\"Coeficiente de aglomeração médio:\",nx.average_clustering(GBA))"
   ]
  },
  {
   "cell_type": "code",
   "execution_count": 3,
   "id": "5c412888",
   "metadata": {},
   "outputs": [
    {
     "name": "stdout",
     "output_type": "stream",
     "text": [
      "Segundo momento: 207.404\n"
     ]
    }
   ],
   "source": [
    "# Função para o cálculo do momento\n",
    "def moment(G,m):\n",
    "    \n",
    "    M = 0.0 # Momento se inicializa em 0\n",
    "    for i in G.nodes:\n",
    "        M += G.degree(i)**m\n",
    "    \n",
    "    return M/len(G)\n",
    "\n",
    "# Calculando segundo momento\n",
    "print(\"Segundo momento:\", moment(GBA,2))"
   ]
  },
  {
   "cell_type": "markdown",
   "id": "0ebb1977",
   "metadata": {},
   "source": [
    "O coeficiente de aglomeração de um grafo aleatoriamente gerado é constante e equivalente a $p$. Portanto, neste caso, temos $p=0.1$."
   ]
  },
  {
   "cell_type": "markdown",
   "id": "3dee960b",
   "metadata": {},
   "source": [
    "### Questão 02\n",
    "Considere uma rede aleatória (Erdos-Renyi) e uma rede BA com N=1000 vértices e grau médio 10. Qual o valor da entropia de Shannon da distribuição do grau para essas redes?"
   ]
  },
  {
   "cell_type": "code",
   "execution_count": 4,
   "id": "0a78bb47",
   "metadata": {},
   "outputs": [],
   "source": [
    "N = 1000\n",
    "av_degree = 10\n",
    "\n",
    "# Função para o cálculo da entropia de Shannon\n",
    "def shannon_entropy(G):\n",
    "    \n",
    "    # Cria um array com os graus dos vértices\n",
    "    deg_arr = np.array(list( (dict(G.degree())).values() ))\n",
    "    \n",
    "    # Array para armazenar a distribuição de graus.\n",
    "    P = np.zeros(np.max(deg_arr)+1) \n",
    "    \n",
    "    # Calcula a distribuição de graus somando a quantidade de vértices de cada grau e tirando a média\n",
    "    for k in deg_arr:\n",
    "        P[k] += 1\n",
    "    P /= sum(P) \n",
    "    \n",
    "    # Cálculo da entropia\n",
    "    H = 0\n",
    "    for pk in P:\n",
    "        if pk > 0: H -= pk * math.log(pk,2)\n",
    "    return H"
   ]
  },
  {
   "cell_type": "code",
   "execution_count": 5,
   "id": "6c39b88b",
   "metadata": {},
   "outputs": [
    {
     "name": "stdout",
     "output_type": "stream",
     "text": [
      "Entropia de Shannon para ER: 3.7090250720374316\n"
     ]
    }
   ],
   "source": [
    "# Erdos Renyi\n",
    "\n",
    "# Gerando grafo \n",
    "p = av_degree/(N-1)\n",
    "GER = nx.gnp_random_graph(N, p, seed=None, directed=False)\n",
    "\n",
    "print(\"Entropia de Shannon para ER:\",shannon_entropy(GER))"
   ]
  },
  {
   "cell_type": "code",
   "execution_count": 6,
   "id": "cd00bb1a",
   "metadata": {},
   "outputs": [
    {
     "name": "stdout",
     "output_type": "stream",
     "text": [
      "Entropia de Shannon para BA: 3.5897157835079545\n"
     ]
    }
   ],
   "source": [
    "#BA\n",
    "\n",
    "# Gerando grafo \n",
    "m = int(av_degree/2)\n",
    "GBA = nx.barabasi_albert_graph(N, m)\n",
    "\n",
    "print(\"Entropia de Shannon para BA:\",shannon_entropy(GBA))"
   ]
  },
  {
   "cell_type": "markdown",
   "id": "ac36fc17",
   "metadata": {},
   "source": [
    "### Questão 03\n",
    "Considere o modelo de Barabási-Albert com N=1000 e grau médio igual a 10. Calcule o coeficiente de correlação entre o grau e a medida eigenvector centrality. "
   ]
  },
  {
   "cell_type": "code",
   "execution_count": 7,
   "id": "89ca7b74",
   "metadata": {},
   "outputs": [],
   "source": [
    "# Gerando grafo\n",
    "N = 1000\n",
    "av_degree = 10\n",
    "m = int(av_degree/2)\n",
    "GBA = nx.barabasi_albert_graph(N, m)"
   ]
  },
  {
   "cell_type": "code",
   "execution_count": 8,
   "id": "179d5a6a",
   "metadata": {},
   "outputs": [],
   "source": [
    "# Calculando o grau \n",
    "deg_list = np.array(list(dict(GBA.degree()).values()))\n",
    "\n",
    "# Calculando a eigenvector centrality\n",
    "EC = list(dict(nx.eigenvector_centrality(GBA, max_iter = 1000)).values())\n",
    "EC = np.array(EC)"
   ]
  },
  {
   "cell_type": "code",
   "execution_count": 9,
   "id": "a2b543ab",
   "metadata": {},
   "outputs": [
    {
     "name": "stdout",
     "output_type": "stream",
     "text": [
      "Pearson correlation: [[1.         0.93128962]\n",
      " [0.93128962 1.        ]]\n"
     ]
    }
   ],
   "source": [
    "# Calculando correlação de Pearson\n",
    "Pear = np.corrcoef(EC, deg_list)\n",
    "print(\"Pearson correlation:\",Pear)"
   ]
  },
  {
   "cell_type": "markdown",
   "id": "a78ef4f4",
   "metadata": {},
   "source": [
    "### Questão 04\n",
    "Calcule a correlação entre a medida betweeness centrality e o grau para uma rede BA. Considere N=500 e grau médio 10."
   ]
  },
  {
   "cell_type": "code",
   "execution_count": 10,
   "id": "7b788a9b",
   "metadata": {},
   "outputs": [],
   "source": [
    "# Gerando grafo\n",
    "N = 500\n",
    "av_degree = 10\n",
    "GBA = nx.barabasi_albert_graph(N, m)"
   ]
  },
  {
   "cell_type": "code",
   "execution_count": 11,
   "id": "52699105",
   "metadata": {},
   "outputs": [],
   "source": [
    "# Calculando betweenness centrality\n",
    "B = np.array(list(dict(nx.betweenness_centrality(GBA)).values()))\n",
    "\n",
    "#Calculando o grau\n",
    "deg_list = np.array(list(dict(GBA.degree()).values()))"
   ]
  },
  {
   "cell_type": "code",
   "execution_count": 12,
   "id": "e4605574",
   "metadata": {},
   "outputs": [
    {
     "name": "stdout",
     "output_type": "stream",
     "text": [
      "Pearson correlation: [[1.         0.96911742]\n",
      " [0.96911742 1.        ]]\n"
     ]
    }
   ],
   "source": [
    "# Calculando correlação de Pearson\n",
    "Pear = np.corrcoef(B, deg_list)\n",
    "print(\"Pearson correlation:\",Pear)"
   ]
  },
  {
   "cell_type": "markdown",
   "id": "7747bf23",
   "metadata": {},
   "source": [
    "### Questão 05\n",
    "Calcule o segundo momento do grau para o modelo de configuração com a=3. Considere N=500. Selecione o valor mais próximo, pois pode haver alguma variação devido à natureza estocástica da simulação. Use:\n",
    "G0=nx.configuration_model(seq)\n",
    "\n",
    "Gcc = sorted(nx.connected_components(G0), key=len, reverse=True)\n",
    "\n",
    "G = G0.subgraph(Gcc[0])"
   ]
  },
  {
   "cell_type": "code",
   "execution_count": 22,
   "id": "73627472",
   "metadata": {},
   "outputs": [],
   "source": [
    "N = 500\n",
    "a = 3\n",
    "seq = np.random.zipf(a, N) \n",
    "if(sum(seq)%2 != 0): # the sum of stubs have to be even\n",
    "    pos = randint(0, len(seq))\n",
    "    seq[pos] = seq[pos]+ 1\n",
    "G=nx.configuration_model(seq)\n",
    "Gcc = sorted(nx.connected_components(G), key=len, reverse=True)\n",
    "G = G.subgraph(Gcc[0])"
   ]
  },
  {
   "cell_type": "code",
   "execution_count": 23,
   "id": "93aad1c1",
   "metadata": {},
   "outputs": [
    {
     "name": "stdout",
     "output_type": "stream",
     "text": [
      "Segundo momento: 12.496\n"
     ]
    }
   ],
   "source": [
    "# Função para o cálculo do momento\n",
    "def moment(G,m):\n",
    "    \n",
    "    M = 0.0 # Momento se inicializa em 0\n",
    "    for i in G.nodes:\n",
    "        M += G.degree(i)**m\n",
    "    \n",
    "    return M/len(G)\n",
    "\n",
    "# Calculando segundo momento\n",
    "print(\"Segundo momento:\", moment(G,2))"
   ]
  }
 ],
 "metadata": {
  "colab": {
   "collapsed_sections": [],
   "name": "sistemas lineares.ipynb",
   "provenance": []
  },
  "kernelspec": {
   "display_name": "Python 3 (ipykernel)",
   "language": "python",
   "name": "python3"
  },
  "language_info": {
   "codemirror_mode": {
    "name": "ipython",
    "version": 3
   },
   "file_extension": ".py",
   "mimetype": "text/x-python",
   "name": "python",
   "nbconvert_exporter": "python",
   "pygments_lexer": "ipython3",
   "version": "3.10.4"
  }
 },
 "nbformat": 4,
 "nbformat_minor": 5
}
