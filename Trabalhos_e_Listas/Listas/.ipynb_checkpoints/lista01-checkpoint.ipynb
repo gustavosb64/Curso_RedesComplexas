{
 "cells": [
  {
   "cell_type": "markdown",
   "id": "4f2c51f9",
   "metadata": {
    "id": "4f2c51f9"
   },
   "source": [
    "# Redes Complexas:  Lista01\n",
    "\n",
    "**Aluno:** Gustavo Siqueira Barbosa\n",
    "\n",
    "**Nº USP:** 10728122\n",
    "\n",
    "**Docente:** Francisco Aparecido Rodrigues, francisco@icmc.usp.br.\n",
    "\n",
    "Universidade de São Paulo, São Carlos, Brasil.\n"
   ]
  },
  {
   "cell_type": "code",
   "execution_count": 2,
   "id": "f5e579d2",
   "metadata": {},
   "outputs": [],
   "source": [
    "# Importando bibliotecas utilizadas\n",
    "import networkx as nx\n",
    "import numpy as np\n",
    "import math"
   ]
  },
  {
   "cell_type": "markdown",
   "id": "b0a50c8e",
   "metadata": {},
   "source": [
    "### Questão 01\n",
    "Para a rede do livro \"Os miseráveis\" (base lesmis), calcule o terceiro e quarto momento do grau.\n",
    "\n",
    "#### Resposta\n",
    "O momento de uma distribuição de grau pode ser obtido matematicamente:\n",
    "\n",
    "$$ M = \\frac{1}{N}\\sum_{i=1}^N{k_i^m}$$\n",
    "\n",
    "Sendo $k_i$ o grau do vértice $i$, $N$ o número de vértices na rede e $m$ o índice do momento a ser descoberto."
   ]
  },
  {
   "cell_type": "code",
   "execution_count": 36,
   "id": "29fefa5f",
   "metadata": {},
   "outputs": [
    {
     "name": "stdout",
     "output_type": "stream",
     "text": [
      "3º momento: 1408.025974025974\n",
      "4º momento: 33592.72727272727\n"
     ]
    }
   ],
   "source": [
    "# Lendo os dados\n",
    "G= nx.read_edgelist(\"data/lesmis.txt\", nodetype=int, data=(('weight',float),))\n",
    "G = G.to_undirected()\n",
    "G.remove_edges_from(nx.selfloop_edges(G))\n",
    "Gcc = sorted(nx.connected_components(G), key=len, reverse=True)\n",
    "G = G.subgraph(Gcc[0])\n",
    "G = nx.convert_node_labels_to_integers(G, first_label=0)\n",
    "\n",
    "# Função para o cálculo do momento\n",
    "def moment(G,m):\n",
    "    \n",
    "    M = 0.0 # Momento se inicializa em 0\n",
    "    for i in G.nodes:\n",
    "        M += G.degree(i)**m\n",
    "    \n",
    "    return M/len(G)\n",
    "\n",
    "print(\"3º momento:\",momment(G,3))\n",
    "print(\"4º momento:\",momment(G,4))"
   ]
  },
  {
   "cell_type": "markdown",
   "id": "3dee960b",
   "metadata": {},
   "source": [
    "### Questão 02\n",
    "Implemente uma rotina para calcular a medida de complexidade. Qual o valor da complexidade para a rede de energia elétrica dos EUA (Base powergrid).\n",
    "\n",
    "#### Resposta\n",
    "O coeficiente de complexidade é calculado pela razão entre o segundo momento e o grau médio (primeiro momento)\n",
    "\n",
    "$$\\alpha = \\frac{\\langle k^2\\rangle}{\\langle k \\rangle} $$"
   ]
  },
  {
   "cell_type": "code",
   "execution_count": 18,
   "id": "0a78bb47",
   "metadata": {},
   "outputs": [
    {
     "name": "stdout",
     "output_type": "stream",
     "text": [
      "Coeficiente de complexidade: 3.8712465878070974\n"
     ]
    }
   ],
   "source": [
    "# Lendo os dados\n",
    "G= nx.read_edgelist(\"data/powergrid.txt\", nodetype=int, data=(('weight',float),))\n",
    "G = G.to_undirected()\n",
    "G.remove_edges_from(nx.selfloop_edges(G))\n",
    "Gcc = sorted(nx.connected_components(G), key=len, reverse=True)\n",
    "G = G.subgraph(Gcc[0])\n",
    "G = nx.convert_node_labels_to_integers(G, first_label=0)\n",
    "\n",
    "def moment(G,m):\n",
    "    \n",
    "    M = 0.0 # Momento se inicializa em 0\n",
    "    for i in G.nodes:\n",
    "        M += G.degree(i)**m\n",
    "    \n",
    "    return M/len(G)\n",
    "\n",
    "def complexity_coef(G):\n",
    "    \n",
    "    n = moment(G,2)\n",
    "    d = moment(G,1)\n",
    "    \n",
    "    return n/d\n",
    "\n",
    "print(\"Coeficiente de complexidade:\",complexity_coef(G))"
   ]
  },
  {
   "cell_type": "markdown",
   "id": "ac36fc17",
   "metadata": {},
   "source": [
    "### Questão 03\n",
    "Implemente uma rotina para calcular a entropia de Shannon e calcule essa medida para a base de estradas da Europa (base euroroad).\n",
    "\n",
    "#### Resposta\n",
    "A entropia de Shannon é calculada através da seguinte equação:\n",
    "$$H = - \\sum_{k=0}^\\infty{P(k)log_2P(k)}$$\n",
    "\n",
    "Sendo $P(k)$ a probabilidade associada ao grau $k$."
   ]
  },
  {
   "cell_type": "code",
   "execution_count": 21,
   "id": "89ca7b74",
   "metadata": {},
   "outputs": [
    {
     "name": "stdout",
     "output_type": "stream",
     "text": [
      "Entropia de Shannon: 2.0036762578444716\n"
     ]
    }
   ],
   "source": [
    "# Lendo os dados\n",
    "G= nx.read_edgelist(\"data/euroroad.txt\", nodetype=int, data=(('weight',float),))\n",
    "G = G.to_undirected()\n",
    "G.remove_edges_from(nx.selfloop_edges(G))\n",
    "Gcc = sorted(nx.connected_components(G), key=len, reverse=True)\n",
    "G = G.subgraph(Gcc[0])\n",
    "G = nx.convert_node_labels_to_integers(G, first_label=0)\n",
    "\n",
    "def shannon_entropy(G):\n",
    "    \n",
    "    # Cria um array com os graus dos vértices\n",
    "    deg_arr = np.array(list( (dict(G.degree())).values() ))\n",
    "    \n",
    "    # Array para armazenar a distribuição de graus.\n",
    "    P = np.zeros(np.max(deg_arr)+1) \n",
    "    \n",
    "    # Calcula a distribuição de graus somando a quantidade de vértices de cada grau e tirando a média\n",
    "    for k in deg_arr:\n",
    "        P[k] += 1\n",
    "    P /= sum(P) \n",
    "    \n",
    "    # Cálculo da entropia\n",
    "    H = 0\n",
    "    for pk in P:\n",
    "        if pk > 0: H -= pk * math.log(pk,2)\n",
    "    return H\n",
    "\n",
    "\n",
    "print(\"Entropia de Shannon:\",shannon_entropy(G))"
   ]
  },
  {
   "cell_type": "markdown",
   "id": "be524715",
   "metadata": {},
   "source": [
    "### Questão 04\n",
    "Calcule as medidas transitivity e average clustering coefficient para a base de dados de aeroportos do EUA (base usairport).\n",
    "\n",
    "#### Resposta\n",
    "* **Transitividade** é definida como:\n",
    "$$ T = 3\\cdot \\frac{\\text{nº de triângulos}}{\\text{nº de tríades}}$$\n",
    "\n",
    "* **Coeficiente de agrupamento médio** é definido como \n",
    "\n",
    "$$ C = \\frac{1}{N} \\sum_{k=1}^N{c_k} $$\n",
    "Sendo $N$ o número de vértices da rede e $k \\in G$ os vértices"
   ]
  },
  {
   "cell_type": "code",
   "execution_count": 8,
   "id": "fdd7ebb7",
   "metadata": {},
   "outputs": [
    {
     "name": "stdout",
     "output_type": "stream",
     "text": [
      "Transitividade: 0.38414344664491556\n",
      "Coeficiente de agrupamento médio: 0.5047939546538639\n"
     ]
    }
   ],
   "source": [
    "# Lendo os dados\n",
    "G= nx.read_edgelist(\"data/usairport.txt\", nodetype=int, data=(('weight',float),))\n",
    "G = G.to_undirected()\n",
    "G.remove_edges_from(nx.selfloop_edges(G))\n",
    "Gcc = sorted(nx.connected_components(G), key=len, reverse=True)\n",
    "G = G.subgraph(Gcc[0])\n",
    "G = nx.convert_node_labels_to_integers(G, first_label=0)\n",
    "\n",
    "# Calculando a transitividade através da função transitivity\n",
    "print(\"Transitividade:\",nx.transitivity(G))\n",
    "\n",
    "# Calculando o coeficiente de agrupamento médio através da função average_clustering\n",
    "print(\"Coeficiente de agrupamento médio:\",nx.average_clustering(G))"
   ]
  },
  {
   "cell_type": "markdown",
   "id": "65ad592a",
   "metadata": {},
   "source": [
    "### Questão 05\n",
    "Calcule o coeficiente de complexidade e a entropia de Shannon para a rede de aeroportos dos EUA (base usairport).\n",
    "\n",
    "#### Resposta"
   ]
  },
  {
   "cell_type": "code",
   "execution_count": 19,
   "id": "1a02ee94",
   "metadata": {},
   "outputs": [
    {
     "name": "stdout",
     "output_type": "stream",
     "text": [
      "Coeficiente de complexidade: 112.22870919019402\n",
      "Entropia de Shannon: 4.989437976520321\n"
     ]
    }
   ],
   "source": [
    "# Lendo os dados\n",
    "G= nx.read_edgelist(\"data/usairport.txt\", nodetype=int, data=(('weight',float),))\n",
    "G = G.to_undirected()\n",
    "G.remove_edges_from(nx.selfloop_edges(G))\n",
    "Gcc = sorted(nx.connected_components(G), key=len, reverse=True)\n",
    "G = G.subgraph(Gcc[0])\n",
    "G = nx.convert_node_labels_to_integers(G, first_label=0)\n",
    "\n",
    "def shannon_entropy(G):\n",
    "    \n",
    "    deg_arr = np.array(list( (dict(G.degree())).values() ))\n",
    "    P = np.zeros(np.max(deg_arr)+1) \n",
    "    \n",
    "    for k in deg_arr:\n",
    "        P[k] += 1\n",
    "    P /= sum(P) \n",
    "     \n",
    "    H = 0\n",
    "    for pk in P:\n",
    "        if pk > 0: H -= pk * math.log(pk,2)\n",
    "    return H\n",
    "\n",
    "def moment(G,m):\n",
    "    \n",
    "    M = 0.0 # Momento se inicializa em 0\n",
    "    for i in G.nodes:\n",
    "        M += G.degree(i)**m\n",
    "    \n",
    "    return M/len(G)\n",
    "\n",
    "def complexity_coef(G):\n",
    "    \n",
    "    n = moment(G,2)\n",
    "    d = moment(G,1)\n",
    "    \n",
    "    return n/d\n",
    "\n",
    "print(\"Coeficiente de complexidade:\",complexity_coef(G))\n",
    "print(\"Entropia de Shannon:\",shannon_entropy(G))"
   ]
  }
 ],
 "metadata": {
  "colab": {
   "collapsed_sections": [],
   "name": "sistemas lineares.ipynb",
   "provenance": []
  },
  "kernelspec": {
   "display_name": "Python 3 (ipykernel)",
   "language": "python",
   "name": "python3"
  },
  "language_info": {
   "codemirror_mode": {
    "name": "ipython",
    "version": 3
   },
   "file_extension": ".py",
   "mimetype": "text/x-python",
   "name": "python",
   "nbconvert_exporter": "python",
   "pygments_lexer": "ipython3",
   "version": "3.10.4"
  }
 },
 "nbformat": 4,
 "nbformat_minor": 5
}
