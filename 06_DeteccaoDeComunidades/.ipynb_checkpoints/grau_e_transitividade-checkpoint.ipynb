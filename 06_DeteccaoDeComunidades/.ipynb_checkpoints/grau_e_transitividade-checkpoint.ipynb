{
 "cells": [
  {
   "cell_type": "markdown",
   "id": "4f2c51f9",
   "metadata": {
    "id": "4f2c51f9"
   },
   "source": [
    "# Redes Complexas: detecção de comunidades\n"
   ]
  },
  {
   "cell_type": "markdown",
   "id": "7552760a",
   "metadata": {
    "scrolled": true
   },
   "source": [
    "## Comunidades\n",
    "\n",
    "* Redes podem apresentar organização modular, onde os módulos são feitos de nós densamente conectados.\n",
    "* Podem ser do tipo sem _overlap_ (não existem nós em mais de uma comunidade) ou com _overlap_ (_fuzzy_)"
   ]
  },
  {
   "cell_type": "markdown",
   "id": "833eb08f",
   "metadata": {},
   "source": [
    "## Detecção de comunidades\n",
    "\n",
    "### Algoritmo de Girvan-Newman\n",
    "* Utiliza a _Betweenness centrality_. $B_i= \\sum_{(a,b)}\\frac{\\eta (a,i,b)}{\\eta (a,b)}$\n",
    "* 1) Cálculo da centralidade para todas as arestas\n",
    "* 2) Remoção da aresta com maior centralidade: em caso de empate com outras arestas, uma é escolhida aleatoriamente.\n",
    "* 3) Recalcula-se as centralidades do grafo\n",
    "* 4) Iteração do ciclo do passo 2 até remover todas as arestas"
   ]
  },
  {
   "cell_type": "markdown",
   "id": "69a979f2",
   "metadata": {},
   "source": [
    "## Modularidade\n",
    "* Vamos assumir que temos véritces divididos em classes, onde cada classe está associada a um inteiro.\n",
    "* Considerando $c_i$ como a classe dos nos $i, c_i \\in \\{1,2,...,n_c\\}$, onde $n_c$ é o número de classes.\n",
    "* Para quantificar a tendência dos vértices da mesma classe a se conectar, podemos comparar a fração de conexões enre estes vértices com um grafo aleatório. O número total de vértices a mesma classe é dado por:\n",
    "\n",
    "$$ H = \\frac{1}{2} \\sum_{i=1}^N \\sum_{j=1}^N A_{ij} \\delta (c_i, c_j) $$\n",
    "\n",
    "onde $\\delta (c_i, c_j) = 1$ caso $c_i = c_j$ e 0 caso contrário.\n",
    "\n",
    "* O número de conexões esperado entre os nós do mesmo tipo em uma rede aleatória é dado por:\n",
    "\n",
    "$$ R = \\frac{1}{2} \\sum_{i=1}^N \\sum_{j=1}^N \\frac{k_i k_j}{2M}\\delta(c_i, c_j) $$\n",
    "\n",
    "* O número de conexões entre $i$ e $j$:\n",
    "\n",
    "$$ E_{ij} = k_i \\frac{k_j}{2M} $$\n",
    "\n",
    "* A diferença entre $H$ e $R$ quantifica a tendência de nós da mesma classe de se conectarem em uma rede. $H-R$ é a medida de modularidade\n",
    "\n",
    "$$ Q = (H - R) \\frac{1}{2M} = \\frac{1}{2} \\sum_{i=1}^N \\sum_{j=1}^N \\left[A_{ij} - \\frac{k_i k_j}{2M} \\right] \\delta (c_i, c_j) $$\n",
    "\n",
    "* $Q > 0.3$ **indica uma rede com estrutura modular**.\n",
    "\n",
    "\n",
    "* **Modularidade**:\n",
    "\n",
    "$$ M = Q = \\frac{1}{2M} \\sum_{ij} \\left[ A_{ij} - \\frac{k_i k_j}{2m} \\right] \\delta_{s_i,s_j} $$\n",
    "\n",
    "* A modularidade compara a número de conexões da rede real com uma rede aleatoriamente gerada a partir da rede real.\n",
    "\n",
    "_**Imagem 02_modularidade**_\n",
    "\n",
    "* O objetivo é maximizar o valor da modularidade para que as comunidades se destaquem na rede."
   ]
  },
  {
   "cell_type": "markdown",
   "id": "eeaabc91",
   "metadata": {},
   "source": [
    "### Algoritmo de Girvan-Newman com modularidade\n",
    "\n",
    "1. Cálculo da centralidade para todas as arestas\n",
    "2.  Remoção da aresta com maior centralidade: em caso de empate com outras arestas, uma é escolhida aleatoriamente.\n",
    "3. <span style=\"color:red\">Cálcular a modularidade e armazenar este valor em um vetor </span>.\n",
    "4. Recalcula-se as centralidades do grafo\n",
    "5. Iteração do ciclo do passo 2\n",
    "6. <span style=\"color:red\">Depois de remover todas as arestas, retornar as redes originais e remover todas as arestas até alcançar a modularidade máxima<\\span>\n",
    "\n",
    "* A modularidade cresce até atingir um ápice e depois decresce.\n",
    "    \n",
    "* **Vantagens**\n",
    "    * Fácil de se entender e de implementar\n",
    "    * Não precisa tomar muitas decisões aribitrárias.\n",
    "* **Desvantagens**\n",
    "    * Muito lento, complexidade $NL^2$, onde $L$ é o número de arestas.\n",
    "    * Resultados dependem da centralidade."
   ]
  },
  {
   "cell_type": "markdown",
   "id": "45fd47b2",
   "metadata": {},
   "source": [
    "### Fast-greedy\n",
    "\n",
    "* Se a modularidade está associada à melhor partição, então um método possível é maximizar o valor da modularidade.\n",
    "* Entretanto, otimização exata da modularidade é um problema que é computacionalmente difícil e então algoritmos de aproximação são necessários quando lidamos com redes muito grandes\n",
    "\n",
    "$$ \\frac{1}{2m} \\sum_{vw} \\left[ A_{vw} - \\frac{k_v k_w}{(2m)} \\right] \\delta (c_v, c_w) = \\sum_{i=1}^c{ (e_{ii} - a_i^2) }$$\n",
    "\n",
    "* **Algoritmo**\n",
    "1. Associar cada nó a uma comunidade própria, começando com $N$ comunidades de nós singulares\n",
    "2. Inspecionar cada par de comunidades conectados por pelo menos uma conexão e computar a diferença modular $\\Delta Q$ obitda se nós os mesclarmos.\n",
    "3. Identificar o par de comunidade para o qual $\\Delta Q$ é o maior e os mesclar. Note que a modularidade é sempre calculada para a rede **inteira**\n",
    "4. Repita o passo 2 até que todos os nós estejam mesclados em uma única comunidade, armazenando $M$ para cada passo\n",
    "5. Selecionar a partição para o qual $Q$ é máximo.\n",
    "\n",
    "* Embora seja melhor que o método de Girvan-Newman, ele não fornece uma solução ótima, podendo ser aprimorado. Um aprimoramento do método foi o **Método de Louvain**."
   ]
  },
  {
   "cell_type": "markdown",
   "id": "6e620c61",
   "metadata": {},
   "source": [
    "### Método de Louvain\n",
    "\n",
    "* Similar ao _Fast-greedy_.\n",
    "1. Associar os vértices a diferentes comunidades aleatoriamente e tentar mesclar duas comunidades (mover um vértice para outra comunidade), calculando a diferença de modularidade e juntar os vértices que apresentar a maior variação\n",
    "2. Pegar as comunidades formadas e as tratar como vértices\n",
    "3. Repetir os processos até chegar apenas a uma comunidade."
   ]
  },
  {
   "cell_type": "markdown",
   "id": "267eae07",
   "metadata": {},
   "source": [
    "## Métodos de geração de redes modulares\n",
    "\n",
    "### Gilvan-Newman benchmark\n",
    "\n",
    "### LFR benchmark\n",
    "* Gera redes que seguem lei de potência\n"
   ]
  },
  {
   "cell_type": "markdown",
   "id": "4107aa1b",
   "metadata": {},
   "source": [
    "## Há muitos outros métodos\n",
    "\n",
    "* **Locais**: em vez de achar uma divisão global, acha a comunidade á qual um dado nó pertence\n",
    "* **Espectral**: baseado no espectro do grafo Laplaciano\n",
    "* **Dinâmico**: Potts-model, osciladores, random walks\n",
    "* **Stochastic block models**:"
   ]
  }
 ],
 "metadata": {
  "colab": {
   "collapsed_sections": [],
   "name": "sistemas lineares.ipynb",
   "provenance": []
  },
  "kernelspec": {
   "display_name": "Python 3 (ipykernel)",
   "language": "python",
   "name": "python3"
  },
  "language_info": {
   "codemirror_mode": {
    "name": "ipython",
    "version": 3
   },
   "file_extension": ".py",
   "mimetype": "text/x-python",
   "name": "python",
   "nbconvert_exporter": "python",
   "pygments_lexer": "ipython3",
   "version": "3.10.4"
  }
 },
 "nbformat": 4,
 "nbformat_minor": 5
}
