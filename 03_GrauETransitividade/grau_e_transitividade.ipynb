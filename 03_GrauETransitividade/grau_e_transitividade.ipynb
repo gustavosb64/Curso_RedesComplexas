{
 "cells": [
  {
   "cell_type": "markdown",
   "id": "4f2c51f9",
   "metadata": {
    "id": "4f2c51f9"
   },
   "source": [
    "# Redes Complexas: graus e transitividade\n"
   ]
  },
  {
   "cell_type": "markdown",
   "id": "7552760a",
   "metadata": {
    "scrolled": true
   },
   "source": [
    "## Grau\n",
    "\n",
    "* Grau de um vértice = número de conexões\n",
    "\n",
    "Para calcular o grau de um vértice de uma matriz, é fácil através da representação de uma matriz de adjacências.\n",
    "\n",
    "|   | a | b | c | d |\n",
    "|---|---|---|---|---|\n",
    "| a | 0 | 1 | 1 | 0 |\n",
    "| b | 1 | 0 | 0 | 1 |\n",
    "| c | 1 | 0 | 0 | 0 |\n",
    "| d | 1 | 1 | 0 | 0 |\n",
    "\n",
    "Para achar o grau de um vértice, basta somar a quantidade de valores não nulos na linha referente a ele.\n",
    "\n",
    "$$ k_i = \\sum_{j=1}^{N}{A_{ij}}$$"
   ]
  },
  {
   "cell_type": "markdown",
   "id": "57826a90",
   "metadata": {},
   "source": [
    "### Grau médio\n",
    "\n",
    "**Grau médio** = a esperança de $k$.\n",
    "* Neste caso, seria a média aritmética de $k$.\n",
    "\n",
    "$$ E[k] = \\frac{1}{N}\\sum_{j=1}^{N}{k_i} $$\n",
    "\n",
    "O grau médio quantifica a quantidade de conexões de uma rede."
   ]
  },
  {
   "cell_type": "markdown",
   "id": "da84d612",
   "metadata": {},
   "source": [
    "### Grau médio em redes dirigidas\n",
    "\n",
    "Separados em **grau de entrada** (número de conexões que chegam a um vértice) e **graus de saída** (conexões que saem).\n",
    "\n",
    "$P(k)$ = probabilidade de selecionar um vértice com grau k."
   ]
  },
  {
   "cell_type": "markdown",
   "id": "7a44927f",
   "metadata": {},
   "source": [
    "### Distribuição do grau\n",
    "\n",
    "* Rede aleatória: a distribuição do número de conexões segue uma distribuição de Poisson. -> $P(k) = \\frac{e^{-\\lambda} \\lambda^k}{k!}$\n",
    "\n",
    "* Rede sem escala: a distribuição do número de conexões segue uma lei de potência. -> $P(k) \\approx k^{-\\gamma}$. A chance de selecionar um nó de grau baixo é muito maior que a chance de se selecionar um nó de grau alto (que são chamados de _hubs_)\n"
   ]
  },
  {
   "cell_type": "markdown",
   "id": "8bb63038",
   "metadata": {},
   "source": [
    "### Lei de potência\n",
    "\n",
    "#### Universalidade\n",
    "Por mais diferentes que sejam as redes, o coeficiente $\\gamma$ das leis de potência das redes é aproximadamente o mesmo ($\\approx 2.3$)\n",
    "As redes sem escala são **robustas**: a chance de selecionar um hub é muito baixa. Na natureza, a evolução moldou que diversas coisas se organizassem de tal forma justamente por sua robustez."
   ]
  },
  {
   "cell_type": "markdown",
   "id": "f1cfef9f",
   "metadata": {},
   "source": [
    "### Complexidade\n",
    "\n",
    "* **Coeficiente de complexidade**: quanto maior o segundo momento, mais complexas (maior variabilidade de hubs)\n",
    "   $$\\alpha = \\frac{\\langle k^2\\rangle}{\\langle k \\rangle} $$\n",
    "  \n",
    "* **Entropia de Shannon**: máxima para uma distribuição uniforme de graus: se todos os graus tiverem a mesma probabilidade, a rede possui uma quantidade muito alta de informação, portanto a entropia **máxima**. Se todos os vértices tiverem o mesmo grau, entretanto, a entropia é **mínima**.\n",
    "\n",
    "$$H = - \\sum_{k=0}^\\infty{P(k)logP(k)}$$\n",
    "   "
   ]
  },
  {
   "cell_type": "markdown",
   "id": "e8923865",
   "metadata": {},
   "source": [
    "## Transitividade\n",
    "\n",
    "* **Transitividade**: quantificar a ocorrência de triângulos em uma rede.\n",
    "\n",
    "### Coeficiente de agrupamento (Clustering coefficient)\n",
    "O número de triplas (conexões entre três vértices)\n",
    "Em cada triângulo, ocorrem três triplas.\n",
    "Portanto, o coeficiente é:\n",
    "\n",
    "$$ C = \\frac{3 \\cdot \\text{nº de triângulos}}{\\text{nº de triplas de vértices conectados}} $$\n",
    "\n",
    "Com esta medida, somos capazes de quantificar o quão conectados são os vizinhos de cada vértice.\n",
    "\n",
    "Matematicamente falando, o problema pode ser representado, a partir de uma matriz de adjacências, da seguinte forma:\n",
    "\n",
    "$$ C = \\frac{3\\sum^N_{i=1}\\sum^N_{j>i}\\sum^N_{k>j>i}A_{ij}A_{ik}A_{jk}}{\\sum^N_{i=1}\\sum^N_{j>i}\\sum^N_{k>j>i}A_{ij}A_{jk} + A_{ik}A_{jk} + A_{ij}A_{ik}} $$\n",
    "\n",
    "Porém, isto é computacionalmente muito caro. Compensa mais fazer uma busca na rede.\n",
    "\n",
    "### Coeficiente de agrupamento local\n",
    "Se refere aos vizinhos de um vértice que possuem conexões entre si.\n",
    "\n",
    "$$ C_i = \\frac{e_i}{k_i(k_i-1)/2} = \\frac{2e_i}{k_i(k_i-1)} $$\n",
    "\n",
    "No caso acima, $k_i$ se refere ao número de vizinhos que o vértice possui, e $e_i$ se refere ao número de conexões entre eles (lembrando que a conexão entre o vértice em questão e seu vizinho não é contabilizada). $k_i(k_i-1)$ equivale ao número de conexões possíveis (é dividido pela metade pois desconsidera orientação).\n",
    "\n",
    "$$ C_L = \\sum^N_{i=1}{\\frac{C_i}{N}}$$\n",
    "\n",
    "O coeficiente de agrupamento local costuma ser baixo para hubs: a chance dos vizinhos de um hub estarem conectados entre si é muito baixa. Uma função de $C_L$ em função do número de hubs cai seguindo uma lei de potência.\n",
    "\n",
    "* No caso de coeficiente **global**, consideramos todos os _triângulos_ têm o mesmo peso. Mais adequada para redes com **considerável** presença de hubs.\n",
    "\n",
    "* No caso de coeficiente **local**, todos os _vértices_ têm o mesmo peso. Esta medida é mais adequada para redes **mais homogêneas**, com baixa presença de hubs."
   ]
  },
  {
   "cell_type": "code",
   "execution_count": null,
   "id": "99218f54",
   "metadata": {},
   "outputs": [],
   "source": []
  }
 ],
 "metadata": {
  "colab": {
   "collapsed_sections": [],
   "name": "sistemas lineares.ipynb",
   "provenance": []
  },
  "kernelspec": {
   "display_name": "Python 3 (ipykernel)",
   "language": "python",
   "name": "python3"
  },
  "language_info": {
   "codemirror_mode": {
    "name": "ipython",
    "version": 3
   },
   "file_extension": ".py",
   "mimetype": "text/x-python",
   "name": "python",
   "nbconvert_exporter": "python",
   "pygments_lexer": "ipython3",
   "version": "3.10.4"
  }
 },
 "nbformat": 4,
 "nbformat_minor": 5
}
